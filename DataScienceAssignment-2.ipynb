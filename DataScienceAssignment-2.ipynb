{
 "cells": [
  {
   "cell_type": "markdown",
   "metadata": {},
   "source": [
    "# Assignment Day 2\n"
   ]
  },
  {
   "cell_type": "markdown",
   "metadata": {},
   "source": [
    "Q.1) Create an empty list. Accept 10 numbers from the user and append to it the list if it is an even number."
   ]
  },
  {
   "cell_type": "code",
   "execution_count": 9,
   "metadata": {},
   "outputs": [
    {
     "name": "stdout",
     "output_type": "stream",
     "text": [
      "Enter the value : 23\n",
      "Enter the value : 44\n",
      "Enter the value : 344\n",
      "Enter the value : 32\n",
      "Enter the value : 67\n",
      "Enter the value : 887\n",
      "Enter the value : 989\n",
      "Enter the value : 333\n",
      "Enter the value : 767\n",
      "Enter the value : 35\n",
      "The list of even numbers is [44, 344, 32]\n"
     ]
    }
   ],
   "source": [
    "empty_list = []  # creating a empty list\n",
    "\n",
    "for i in range(0,10):                    #Accepting values from user\n",
    "    x = int(input(\"Enter the value : \"))\n",
    "    empty_list.append(x)\n",
    "    \n",
    "even_list = []     #even numbers list\n",
    "\n",
    "# appending only even numbers\n",
    "for i in empty_list:\n",
    "    if(i%2==0):\n",
    "        even_list.append(i)\n",
    "        \n",
    "print(\"The list of even numbers is\", even_list)"
   ]
  },
  {
   "cell_type": "markdown",
   "metadata": {},
   "source": [
    "Q.2) Create a notebook on LIST COMPREHENSION. This exercise is to put you in a Self learning mode."
   ]
  },
  {
   "cell_type": "code",
   "execution_count": 4,
   "metadata": {},
   "outputs": [
    {
     "name": "stdout",
     "output_type": "stream",
     "text": [
      "['A', 'n', 'a', 'c', 'o', 'n', 'd', 'a']\n"
     ]
    }
   ],
   "source": [
    " letters= [ letter for letter in 'Anaconda' ] \n",
    "print( letters)\n"
   ]
  },
  {
   "cell_type": "markdown",
   "metadata": {},
   "source": [
    "Q.3) In this assignment, given a number n, you have to write a program that generates a dictionary d which\n",
    "contains (i, i*i), where i is from 1 to n (both included).\n",
    "Then you have to just print this dictionary d."
   ]
  },
  {
   "cell_type": "code",
   "execution_count": 6,
   "metadata": {},
   "outputs": [
    {
     "name": "stdout",
     "output_type": "stream",
     "text": [
      "3\n",
      "{1: 1, 2: 4, 3: 9}\n"
     ]
    }
   ],
   "source": [
    "d= {}  # creating empty dictionary\n",
    "n = int(input())  #  accepting a number from user\n",
    "\n",
    "for i in range(1,n+1):\n",
    "  d[i] = i*i\n",
    "\n",
    "print(dict)\n"
   ]
  },
  {
   "cell_type": "markdown",
   "metadata": {},
   "source": [
    "Q.4) Write a program to compute the distance between the current position after\n",
    "a sequence of movement and original point. If the distance is a float, then\n",
    "just print the nearest integer (use round() function for that and then convert\n",
    "it into an integer)."
   ]
  },
  {
   "cell_type": "code",
   "execution_count": 10,
   "metadata": {},
   "outputs": [
    {
     "name": "stdout",
     "output_type": "stream",
     "text": [
      "4\n",
      "Up 5\n",
      "Down 3\n",
      "Left 3\n",
      "Right 2\n",
      "2\n"
     ]
    }
   ],
   "source": [
    "position = {\"x\":0,\"y\":0}    # creating a origin position\n",
    "n = int(input())  # numbr of directions to be given\n",
    "\n",
    "for i in range (n):\n",
    "    move =  input().split(\" \")      # ACCEPT MOVEMENT COMMAND AND STORE AS A LIST\n",
    "    \n",
    "    if move[0].lower() == \"up\":     # EXTRACT DIRECTION AND COMPARE\n",
    "        pos[\"y\"] += int(move[1])    # INCREMENT/DECREMENT APPROPRIATE CO-ORDINATES\n",
    "    \n",
    "    elif move[0].lower() == \"down\":\n",
    "        pos[\"y\"] -= int(move[1])\n",
    "    \n",
    "    elif move[0].lower() == \"left\":\n",
    "        pos[\"x\"] -= int(move[1])\n",
    "    \n",
    "    elif move[0].lower() == \"right\":\n",
    "        pos[\"x\"] += int(move[1])\n",
    "\n",
    "#  printing the result\n",
    "\n",
    "print(int(round((pos[\"x\"]**2 + pos[\"y\"]**2)**0.5))) # DISTANCE FROM ORIGIN\n"
   ]
  }
 ],
 "metadata": {
  "kernelspec": {
   "display_name": "Python 3",
   "language": "python",
   "name": "python3"
  }
 },
 "nbformat": 4,
 "nbformat_minor": 4
}
