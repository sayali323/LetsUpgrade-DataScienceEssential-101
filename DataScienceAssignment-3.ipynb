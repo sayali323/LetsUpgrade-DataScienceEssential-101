{
 "cells": [
  {
   "cell_type": "markdown",
   "metadata": {},
   "source": [
    "# Assignment Day 3\n"
   ]
  },
  {
   "cell_type": "markdown",
   "metadata": {},
   "source": [
    "Q.1) Create a numpy array starting from 2 till 50 with a stepsize of 3."
   ]
  },
  {
   "cell_type": "code",
   "execution_count": 2,
   "metadata": {},
   "outputs": [
    {
     "name": "stdout",
     "output_type": "stream",
     "text": [
      "[ 2  5  8 11 14 17 20 23 26 29 32 35 38 41 44 47 50]\n"
     ]
    }
   ],
   "source": [
    "import numpy as np \n",
    "arr = np.arange(2,51,3) # creating numpy array \n",
    "print(arr)\n"
   ]
  },
  {
   "cell_type": "markdown",
   "metadata": {},
   "source": [
    "Q.2) Accept two lists of 5 elements each from the user.Convert them to numpy arrays. Concatenate these arrays and print it. Also sort these arrays and print it."
   ]
  },
  {
   "cell_type": "code",
   "execution_count": 4,
   "metadata": {},
   "outputs": [
    {
     "name": "stdout",
     "output_type": "stream",
     "text": [
      "3 7 11 67 4\n",
      "5 9 33 8 2\n",
      "[ 3  7 11 67  4  5  9 33  8  2]\n",
      "[ 2  3  4  5  7  8  9 11 33 67]\n"
     ]
    }
   ],
   "source": [
    "import numpy as np\n",
    "arr1,arr2 = (list(map(int,input().split())) for i in range(2))\n",
    "nmpy_arr1 = np.array(arr1) \n",
    "nmpy_arr2 = np.array(arr2)\n",
    "print(np.concatenate((nmpy_arr1,nmpy_arr2)))  #Concatenation of arrays\n",
    "print(np.sort(np.concatenate((nmpy_arr1,nmpy_arr2)))) #Sorting of arrays\n"
   ]
  },
  {
   "cell_type": "markdown",
   "metadata": {},
   "source": [
    "Q.3) Write a code snippet to find the dimensions of a ndarray and its size."
   ]
  },
  {
   "cell_type": "code",
   "execution_count": 7,
   "metadata": {},
   "outputs": [
    {
     "name": "stdout",
     "output_type": "stream",
     "text": [
      "(3, 4)\n",
      "12\n"
     ]
    }
   ],
   "source": [
    "arr = np.array([ [11,33,77,99] , [5,3,1,6] , [12,76,45,32] ])\n",
    "print(arr.shape) #dimenion of array\n",
    "print(arr.size) #size of array\n"
   ]
  },
  {
   "cell_type": "markdown",
   "metadata": {},
   "source": [
    "Q.4) How to convert a 1D array into a 2D array? Demonstrate with the help of a code snippet\n",
    "Hint: np.newaxis, np.expand_dims\n"
   ]
  },
  {
   "cell_type": "code",
   "execution_count": 11,
   "metadata": {},
   "outputs": [
    {
     "name": "stdout",
     "output_type": "stream",
     "text": [
      "[[33 77 55 34 65 21 54 90 67 52 85 44]] (1, 12)\n",
      "[[33 77 55 34]\n",
      " [65 21 54 90]\n",
      " [67 52 85 44]] (3, 4)\n"
     ]
    }
   ],
   "source": [
    "arr = np.array([ [33,77,55,34,65,21,54,90,67,52,85,44] ])\n",
    "\n",
    "print(arr,arr.shape) \n",
    "\n",
    "arr = arr.reshape(3,4) \n",
    "\n",
    "print(arr,arr.shape)\n"
   ]
  },
  {
   "cell_type": "markdown",
   "metadata": {},
   "source": [
    "Q.5) Consider two square numpy arrays. Stack them vertically and horizontally.\n",
    "Hint: Use vstack(), hstack()"
   ]
  },
  {
   "cell_type": "code",
   "execution_count": 3,
   "metadata": {},
   "outputs": [
    {
     "name": "stdout",
     "output_type": "stream",
     "text": [
      "[[44 77]\n",
      " [33 88]\n",
      " [32 79]\n",
      " [54 89]\n",
      " [45 74]\n",
      " [23 11]]\n",
      "[[44 77 54 89]\n",
      " [33 88 45 74]\n",
      " [32 79 23 11]]\n"
     ]
    }
   ],
   "source": [
    "import numpy as np\n",
    "arr1 = np.array([ [44,77] , [33,88] , [32,79] ])\n",
    "arr2 = np.array([ [54,89] , [45,74] , [23,11] ])\n",
    "print(np.vstack((arr1,arr2))) # Vertical Stack\n",
    "print(np.hstack((arr1,arr2))) # Horizontal Stack\n"
   ]
  },
  {
   "cell_type": "markdown",
   "metadata": {},
   "source": [
    "Q.6) How to get unique items and counts of unique items?"
   ]
  },
  {
   "cell_type": "code",
   "execution_count": 5,
   "metadata": {},
   "outputs": [
    {
     "name": "stdout",
     "output_type": "stream",
     "text": [
      "[32, 33, 65, 99, 67, 44, 77]\n",
      "7\n"
     ]
    }
   ],
   "source": [
    "lst = [33,77,44,67,99,44,33,65,99,32]\n",
    "lst = list(set(lst))\n",
    "print(lst)\n",
    "print(len(lst)) #count of unique items\n"
   ]
  }
 ],
 "metadata": {
  "kernelspec": {
   "display_name": "Python 3",
   "language": "python",
   "name": "python3"
  },
  "language_info": {
   "codemirror_mode": {
    "name": "ipython",
    "version": 3
   },
   "file_extension": ".py",
   "mimetype": "text/x-python",
   "name": "python",
   "nbconvert_exporter": "python",
   "pygments_lexer": "ipython3",
   "version": "3.8.3"
  }
 },
 "nbformat": 4,
 "nbformat_minor": 4
}
